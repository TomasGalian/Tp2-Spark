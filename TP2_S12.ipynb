{
  "cells": [
    {
      "cell_type": "markdown",
      "metadata": {
        "id": "M_5NljB9Uhjp"
      },
      "source": [
        "Top 10 películas Argentinas según vote_average que contengan el género drama con más de 100 reviews en ratings.csv (dar géneros, cantidad de ratings, título, y vote_average)."
      ]
    },
    {
      "cell_type": "code",
      "execution_count": null,
      "metadata": {
        "colab": {
          "base_uri": "https://localhost:8080/"
        },
        "id": "IjTU5mm7TpLO",
        "outputId": "f4ec197b-4e12-4b08-a02d-ff6f3e0ca894"
      },
      "outputs": [
        {
          "name": "stdout",
          "output_type": "stream",
          "text": [
            "Looking in indexes: https://pypi.org/simple, https://us-python.pkg.dev/colab-wheels/public/simple/\n",
            "Collecting pyspark\n",
            "  Downloading pyspark-3.3.0.tar.gz (281.3 MB)\n",
            "\u001b[K     |████████████████████████████████| 281.3 MB 47 kB/s \n",
            "\u001b[?25hCollecting py4j==0.10.9.5\n",
            "  Downloading py4j-0.10.9.5-py2.py3-none-any.whl (199 kB)\n",
            "\u001b[K     |████████████████████████████████| 199 kB 57.1 MB/s \n",
            "\u001b[?25hBuilding wheels for collected packages: pyspark\n",
            "  Building wheel for pyspark (setup.py) ... \u001b[?25l\u001b[?25hdone\n",
            "  Created wheel for pyspark: filename=pyspark-3.3.0-py2.py3-none-any.whl size=281764026 sha256=1dcee90638f7e07aa006cd335c818b2b1487ba8a52e68c9e792d6cb1f33e24d4\n",
            "  Stored in directory: /root/.cache/pip/wheels/7a/8e/1b/f73a52650d2e5f337708d9f6a1750d451a7349a867f928b885\n",
            "Successfully built pyspark\n",
            "Installing collected packages: py4j, pyspark\n",
            "Successfully installed py4j-0.10.9.5 pyspark-3.3.0\n"
          ]
        }
      ],
      "source": [
        "#Realizamos las importanciones\n",
        "!pip install pyspark"
      ]
    },
    {
      "cell_type": "code",
      "execution_count": null,
      "metadata": {
        "id": "CWqneFtfUm59"
      },
      "outputs": [],
      "source": [
        "#Realizamos las importaciones para usar google drive y pyspark\n",
        "from pydrive.auth import GoogleAuth\n",
        "from pydrive.drive import GoogleDrive\n",
        "from google.colab import auth\n",
        "from oauth2client.client import GoogleCredentials\n",
        "from pyspark.sql import *\n",
        "from pyspark.sql.functions import *\n",
        "from pyspark import SparkContext\n",
        "from pyspark.sql import SQLContext\n",
        "import pandas as pd"
      ]
    },
    {
      "cell_type": "code",
      "execution_count": null,
      "metadata": {
        "id": "V1nvhgAeUoN0"
      },
      "outputs": [],
      "source": [
        "auth.authenticate_user()\n",
        "gauth = GoogleAuth()\n",
        "gauth.credentials = GoogleCredentials.get_application_default()\n",
        "drive = GoogleDrive(gauth)"
      ]
    },
    {
      "cell_type": "code",
      "execution_count": null,
      "metadata": {
        "colab": {
          "background_save": true
        },
        "id": "0LwwdSlBUpXv"
      },
      "outputs": [],
      "source": [
        "#Descargamos movies.parquet\n",
        "descarga = drive.CreateFile({'id':'1YKh46_KdgSC-6UZ0mttbOqVI6tXgly-F'})\n",
        "descarga.GetContentFile('movies.parquet')"
      ]
    },
    {
      "cell_type": "code",
      "execution_count": null,
      "metadata": {
        "colab": {
          "background_save": true
        },
        "id": "BO3SNfpgVk8d"
      },
      "outputs": [],
      "source": [
        "#Descargamos ratings.parquet\n",
        "descarga = drive.CreateFile({'id':'1fE0C3RJuvKs-bwEZeapVmjDDhNDr9npu'})\n",
        "descarga.GetContentFile('ratings.parquet')"
      ]
    },
    {
      "cell_type": "code",
      "execution_count": null,
      "metadata": {
        "colab": {
          "background_save": true
        },
        "id": "4UjPZ6nb2jkB"
      },
      "outputs": [],
      "source": [
        "spark = SparkSession.builder.getOrCreate() #Obtenemos una sesion de spark\n",
        "sc = spark.sparkContext #Obtenemos el contexto"
      ]
    },
    {
      "cell_type": "code",
      "execution_count": null,
      "metadata": {
        "colab": {
          "background_save": true
        },
        "id": "PLR8y59GUviI",
        "outputId": "90e62dbb-9498-4004-9ed1-694a1c431782"
      },
      "outputs": [
        {
          "name": "stderr",
          "output_type": "stream",
          "text": [
            "/usr/local/lib/python3.7/dist-packages/pyspark/sql/context.py:114: FutureWarning: Deprecated in 3.0.0. Use SparkSession.builder.getOrCreate() instead.\n",
            "  FutureWarning,\n"
          ]
        }
      ],
      "source": [
        "#Creo los rdd con los que voy a trabajar\n",
        "sqlContext = SQLContext(sc)\n",
        "df = sqlContext.read.parquet('ratings.parquet',header=True,inferSchema=True)\n",
        "ratingsRdd = df.rdd\n",
        "df = sqlContext.read.parquet('movies.parquet',header=True,inferSchema=True)\n",
        "moviesRdd = df.rdd "
      ]
    },
    {
      "cell_type": "code",
      "execution_count": null,
      "metadata": {
        "colab": {
          "base_uri": "https://localhost:8080/"
        },
        "id": "7v9X7yIp4YmJ",
        "outputId": "bae1e7e0-6de9-4bd8-b254-71673151b366"
      },
      "outputs": [
        {
          "data": {
            "text/plain": [
              "[(110, 66512), (858, 57070), (1246, 25752), (1968, 26611), (2762, 49643)]"
            ]
          },
          "execution_count": 10,
          "metadata": {},
          "output_type": "execute_result"
        }
      ],
      "source": [
        "#Primero filtro las peliculas que tengan mas de 100 reviews. Para eso lo que hago es un map quedandome (movieId,1), luego realizo un reduceByKey contando los ratings para cada pelicula y luego un filter\n",
        "ratingsRdd = ratingsRdd.map(lambda x: (int(x.movieId),1)).reduceByKey(lambda x,y: x+y).filter(lambda x: x[1]>100)\n",
        "ratingsRdd.take(5) #Vemos que ratingsRdd me queda como (movieId,cantRatings)"
      ]
    },
    {
      "cell_type": "code",
      "execution_count": null,
      "metadata": {
        "colab": {
          "base_uri": "https://localhost:8080/"
        },
        "id": "zvsYfTvPQJli",
        "outputId": "89c729d3-6651-4319-ea00-f9999f15059e"
      },
      "outputs": [
        {
          "data": {
            "text/plain": [
              "[(124304, 'De eso no se habla'),\n",
              " (90148, 'Of Love and Shadows'),\n",
              " (123763, 'Yo, la peor de todas'),\n",
              " (34838, 'The Tango Lesson'),\n",
              " (65749, 'Tango, no me dejes nunca')]"
            ]
          },
          "execution_count": 15,
          "metadata": {},
          "output_type": "execute_result"
        }
      ],
      "source": [
        "#Despues filtro las peliculas que sean Argentinas y que tengan el genero Drama. Para eso utilizo un simple filter. Luego realizo un map de forma tal que los registros queden (movieId,movieTitulo) para luego realizar un join\n",
        "moviesRdd = moviesRdd.filter(lambda x: \"Argentina\" in str(x.production_countries) and \"Drama\" in str(x.genres)).map(lambda x: (int(x.id),x.original_title))\n",
        "moviesRdd.take(5)"
      ]
    },
    {
      "cell_type": "code",
      "execution_count": null,
      "metadata": {
        "colab": {
          "base_uri": "https://localhost:8080/"
        },
        "id": "euDzwjJpQ_j2",
        "outputId": "88538b3b-0a8f-46f3-8ab9-83a05912c86d"
      },
      "outputs": [
        {
          "data": {
            "text/plain": [
              "[(1653, ('Diarios de motocicleta', 23335)),\n",
              " (16, ('Dancer in the Dark', 20517)),\n",
              " (45722, ('No mires para abajo', 15079)),\n",
              " (1956, ('Gerry', 4707)),\n",
              " (6636, ('El asaltante', 974)),\n",
              " (5333, ('Apartment Zero', 385)),\n",
              " (48596, ('Ana y los otros', 273)),\n",
              " (47261, ('Carancho', 234))]"
            ]
          },
          "execution_count": 17,
          "metadata": {},
          "output_type": "execute_result"
        }
      ],
      "source": [
        "#Realizo un join entre moviesRdd y ratingsRdd que comparten la clave movieId. Los registros se muestran como (idMovie,(movieTitlo,cantRatings))\n",
        "moviesRdd.join(ratingsRdd).takeOrdered(10, key=lambda x: -x[1][1])"
      ]
    }
  ],
  "metadata": {
    "colab": {
      "provenance": []
    },
    "kernelspec": {
      "display_name": "Python 3",
      "name": "python3"
    },
    "language_info": {
      "name": "python"
    }
  },
  "nbformat": 4,
  "nbformat_minor": 0
}